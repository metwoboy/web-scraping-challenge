{
 "cells": [
  {
   "cell_type": "code",
   "execution_count": 1,
   "metadata": {},
   "outputs": [],
   "source": [
    "# Dependencies\n",
    "from bs4 import BeautifulSoup\n",
    "from splinter import Browser\n",
    "from splinter.exceptions import ElementDoesNotExist\n",
    "import pymongo\n",
    "import requests\n",
    "import os\n",
    "import time\n",
    "import pandas as pd"
   ]
  },
  {
   "cell_type": "code",
   "execution_count": 2,
   "metadata": {},
   "outputs": [
    {
     "name": "stderr",
     "output_type": "stream",
     "text": [
      "which: no chromedriver in (/c/Users/Wei_l/Anaconda3/envs/pythondata:/c/Users/Wei_l/Anaconda3/envs/pythondata/Library/mingw-w64/bin:/c/Users/Wei_l/Anaconda3/envs/pythondata/Library/usr/bin:/c/Users/Wei_l/Anaconda3/envs/pythondata/Library/bin:/c/Users/Wei_l/Anaconda3/envs/pythondata/Scripts:/c/Users/Wei_l/Anaconda3/envs/pythondata/bin:/c/Users/Wei_l/Anaconda3:/c/Users/Wei_l/Anaconda3/Library/mingw-w64/bin:/c/Users/Wei_l/Anaconda3/Library/usr/bin:/c/Users/Wei_l/Anaconda3/Library/bin:/c/Users/Wei_l/Anaconda3/Scripts:/c/Users/Wei_l/Anaconda3/bin:/c/Users/Wei_l/Anaconda3/Scripts/condabin:/c/Users/Wei_l/bin:/mingw64/bin:/usr/local/bin:/usr/bin:/usr/bin:/mingw64/bin:/usr/bin:/c/Users/Wei_l/bin:/c/Windows/system32:/c/Windows:/c/Windows/System32/Wbem:/c/Windows/System32/WindowsPowerShell/v1.0:/c/Windows/System32/OpenSSH:/c/Program Files/PuTTY:/cmd:/c/Users/Wei_l/Anaconda3:/c/Users/Wei_l/Anaconda3/Library/mingw-w64/bin:/c/Users/Wei_l/Anaconda3/Library/usr/bin:/c/Users/Wei_l/Anaconda3/Library/bin:/c/Users/Wei_l/Anaconda3/Scripts:/c/Users/Wei_l/AppData/Local/Microsoft/WindowsApps:/c/Users/Wei_l/AppData/Local/Programs/Microsoft VS Code/bin:/c/Program Files/MongoDB/Server/4.2/bin:/usr/bin/vendor_perl:/usr/bin/core_perl)\n"
     ]
    }
   ],
   "source": [
    "# https://splinter.readthedocs.io/en/latest/drivers/chrome.html\n",
    "!which chromedriver\n",
    "executable_path = {'executable_path': 'chromedriver.exe'}\n",
    "browser = Browser('chrome', **executable_path, headless=False)"
   ]
  },
  {
   "cell_type": "markdown",
   "metadata": {},
   "source": [
    "# Scrape - NASA Mars News Title and Content"
   ]
  },
  {
   "cell_type": "code",
   "execution_count": 3,
   "metadata": {},
   "outputs": [],
   "source": [
    "url = 'https://mars.nasa.gov/news/?page=0&per_page=40&order=publish_date+desc%2Ccreated_at+desc&search=&category=19%2C165%2C184%2C204&blank_scope=Latest'\n",
    "browser.visit(url)\n",
    "time.sleep(5)"
   ]
  },
  {
   "cell_type": "code",
   "execution_count": 4,
   "metadata": {},
   "outputs": [],
   "source": [
    "news_title = []\n",
    "news_p=[]\n",
    "news_date=[]\n",
    "\n",
    "    \n",
    "html = browser.html\n",
    "soup = BeautifulSoup(html, 'html.parser').find('ul',class_='item_list').find_all('li',class_='slide')\n",
    "    \n",
    "for news in soup:\n",
    "    date=news.find('div',class_='list_date')\n",
    "    news_date.append(date)\n",
    "    title = news.find('div',class_='content_title').a.text.strip()\n",
    "    news_title.append(title)\n",
    "    content=news.find('div',class_='article_teaser_body')\n",
    "    news_p.append(content)\n",
    "\n",
    "browser.quit()\n",
    "# try:\n",
    "# # browser.click_link_by_partial_text('More')\n",
    "#     xpath = '//div[@class=\"loading\"]'\n",
    "#     browser.find_by_xpath(xpath).click()\n",
    "#     print('Continue')\n",
    "# except:\n",
    "# print('Scraping Complete')\n"
   ]
  },
  {
   "cell_type": "code",
   "execution_count": 5,
   "metadata": {},
   "outputs": [
    {
     "name": "stdout",
     "output_type": "stream",
     "text": [
      "The Detective Aboard NASA's Perseverance Rover\n"
     ]
    }
   ],
   "source": [
    "print(news_title[0])"
   ]
  },
  {
   "cell_type": "markdown",
   "metadata": {},
   "source": [
    "# Scrape - JPL Mars Space Image"
   ]
  },
  {
   "cell_type": "code",
   "execution_count": 22,
   "metadata": {},
   "outputs": [
    {
     "name": "stderr",
     "output_type": "stream",
     "text": [
      "which: no chromedriver in (/c/Users/Wei_l/Anaconda3/envs/pythondata:/c/Users/Wei_l/Anaconda3/envs/pythondata/Library/mingw-w64/bin:/c/Users/Wei_l/Anaconda3/envs/pythondata/Library/usr/bin:/c/Users/Wei_l/Anaconda3/envs/pythondata/Library/bin:/c/Users/Wei_l/Anaconda3/envs/pythondata/Scripts:/c/Users/Wei_l/Anaconda3/envs/pythondata/bin:/c/Users/Wei_l/Anaconda3:/c/Users/Wei_l/Anaconda3/Library/mingw-w64/bin:/c/Users/Wei_l/Anaconda3/Library/usr/bin:/c/Users/Wei_l/Anaconda3/Library/bin:/c/Users/Wei_l/Anaconda3/Scripts:/c/Users/Wei_l/Anaconda3/bin:/c/Users/Wei_l/Anaconda3/Scripts/condabin:/c/Users/Wei_l/bin:/mingw64/bin:/usr/local/bin:/usr/bin:/usr/bin:/mingw64/bin:/usr/bin:/c/Users/Wei_l/bin:/c/Windows/system32:/c/Windows:/c/Windows/System32/Wbem:/c/Windows/System32/WindowsPowerShell/v1.0:/c/Windows/System32/OpenSSH:/c/Program Files/PuTTY:/cmd:/c/Users/Wei_l/Anaconda3:/c/Users/Wei_l/Anaconda3/Library/mingw-w64/bin:/c/Users/Wei_l/Anaconda3/Library/usr/bin:/c/Users/Wei_l/Anaconda3/Library/bin:/c/Users/Wei_l/Anaconda3/Scripts:/c/Users/Wei_l/AppData/Local/Microsoft/WindowsApps:/c/Users/Wei_l/AppData/Local/Programs/Microsoft VS Code/bin:/c/Program Files/MongoDB/Server/4.2/bin:/usr/bin/vendor_perl:/usr/bin/core_perl)\n"
     ]
    }
   ],
   "source": [
    "!which chromedriver\n",
    "executable_path = {'executable_path': 'chromedriver.exe'}\n",
    "browser = Browser('chrome', **executable_path, headless=False)\n",
    "\n",
    "url = 'https://www.jpl.nasa.gov/spaceimages/?search=&category=Mars'\n",
    "browser.visit(url)\n",
    "time.sleep(3)\n",
    "html = browser.html\n"
   ]
  },
  {
   "cell_type": "code",
   "execution_count": 23,
   "metadata": {},
   "outputs": [
    {
     "name": "stdout",
     "output_type": "stream",
     "text": [
      "https://www.jpl.nasa.gov/spaceimages/images/mediumsize/PIA09178_ip.jpg\n"
     ]
    }
   ],
   "source": [
    "soup = BeautifulSoup(html, 'lxml').find('div',class_='carousel_container').find('footer').find('a')['data-fancybox-href']\n",
    "featured_image_url ='https://www.jpl.nasa.gov'+soup\n",
    "print(featured_image_url)\n",
    "browser.quit()"
   ]
  },
  {
   "cell_type": "markdown",
   "metadata": {},
   "source": [
    "# Scrape - Mars Weather"
   ]
  },
  {
   "cell_type": "code",
   "execution_count": 59,
   "metadata": {},
   "outputs": [
    {
     "name": "stderr",
     "output_type": "stream",
     "text": [
      "which: no chromedriver in (/c/Users/Wei_l/Anaconda3/envs/pythondata:/c/Users/Wei_l/Anaconda3/envs/pythondata/Library/mingw-w64/bin:/c/Users/Wei_l/Anaconda3/envs/pythondata/Library/usr/bin:/c/Users/Wei_l/Anaconda3/envs/pythondata/Library/bin:/c/Users/Wei_l/Anaconda3/envs/pythondata/Scripts:/c/Users/Wei_l/Anaconda3/envs/pythondata/bin:/c/Users/Wei_l/Anaconda3:/c/Users/Wei_l/Anaconda3/Library/mingw-w64/bin:/c/Users/Wei_l/Anaconda3/Library/usr/bin:/c/Users/Wei_l/Anaconda3/Library/bin:/c/Users/Wei_l/Anaconda3/Scripts:/c/Users/Wei_l/Anaconda3/bin:/c/Users/Wei_l/Anaconda3/Scripts/condabin:/c/Users/Wei_l/bin:/mingw64/bin:/usr/local/bin:/usr/bin:/usr/bin:/mingw64/bin:/usr/bin:/c/Users/Wei_l/bin:/c/Windows/system32:/c/Windows:/c/Windows/System32/Wbem:/c/Windows/System32/WindowsPowerShell/v1.0:/c/Windows/System32/OpenSSH:/c/Program Files/PuTTY:/cmd:/c/Users/Wei_l/Anaconda3:/c/Users/Wei_l/Anaconda3/Library/mingw-w64/bin:/c/Users/Wei_l/Anaconda3/Library/usr/bin:/c/Users/Wei_l/Anaconda3/Library/bin:/c/Users/Wei_l/Anaconda3/Scripts:/c/Users/Wei_l/AppData/Local/Microsoft/WindowsApps:/c/Users/Wei_l/AppData/Local/Programs/Microsoft VS Code/bin:/c/Program Files/MongoDB/Server/4.2/bin:/usr/bin/vendor_perl:/usr/bin/core_perl)\n"
     ]
    }
   ],
   "source": [
    "!which chromedriver\n",
    "executable_path = {'executable_path': 'chromedriver.exe'}\n",
    "browser = Browser('chrome', **executable_path, headless=False)\n",
    "\n",
    "url = 'https://twitter.com/marswxreport?lang=en'\n",
    "browser.visit(url)\n",
    "time.sleep(3)\n",
    "html = browser.html"
   ]
  },
  {
   "cell_type": "code",
   "execution_count": 72,
   "metadata": {},
   "outputs": [
    {
     "name": "stdout",
     "output_type": "stream",
     "text": [
      "Mars Weather@MarsWxReport·23hInSight sol 535 (2020-05-29) low -91.3ºC (-132.4ºF) high -2.7ºC (27.2ºF) winds from the SW at 5.2 m/s (11.5 mph) gusting to 16.7 m/s (37.3 mph) pressure at 7.20 hPa830\n"
     ]
    }
   ],
   "source": [
    "mars_weather=BeautifulSoup(html, 'lxml').find('article',role='article').text.strip().replace('\\n',' ')\n",
    "print(mars_weather)\n",
    "browser.quit()"
   ]
  },
  {
   "cell_type": "markdown",
   "metadata": {},
   "source": [
    "# Scrape - Mars Facts"
   ]
  },
  {
   "cell_type": "code",
   "execution_count": 91,
   "metadata": {},
   "outputs": [
    {
     "data": {
      "text/html": [
       "<div>\n",
       "<style scoped>\n",
       "    .dataframe tbody tr th:only-of-type {\n",
       "        vertical-align: middle;\n",
       "    }\n",
       "\n",
       "    .dataframe tbody tr th {\n",
       "        vertical-align: top;\n",
       "    }\n",
       "\n",
       "    .dataframe thead th {\n",
       "        text-align: right;\n",
       "    }\n",
       "</style>\n",
       "<table border=\"1\" class=\"dataframe\">\n",
       "  <thead>\n",
       "    <tr style=\"text-align: right;\">\n",
       "      <th></th>\n",
       "      <th>Measurement</th>\n",
       "    </tr>\n",
       "    <tr>\n",
       "      <th>Metrics</th>\n",
       "      <th></th>\n",
       "    </tr>\n",
       "  </thead>\n",
       "  <tbody>\n",
       "    <tr>\n",
       "      <th>Equatorial Diameter:</th>\n",
       "      <td>6,792 km</td>\n",
       "    </tr>\n",
       "    <tr>\n",
       "      <th>Polar Diameter:</th>\n",
       "      <td>6,752 km</td>\n",
       "    </tr>\n",
       "    <tr>\n",
       "      <th>Mass:</th>\n",
       "      <td>6.39 × 10^23 kg (0.11 Earths)</td>\n",
       "    </tr>\n",
       "    <tr>\n",
       "      <th>Moons:</th>\n",
       "      <td>2 (Phobos &amp; Deimos)</td>\n",
       "    </tr>\n",
       "    <tr>\n",
       "      <th>Orbit Distance:</th>\n",
       "      <td>227,943,824 km (1.38 AU)</td>\n",
       "    </tr>\n",
       "    <tr>\n",
       "      <th>Orbit Period:</th>\n",
       "      <td>687 days (1.9 years)</td>\n",
       "    </tr>\n",
       "    <tr>\n",
       "      <th>Surface Temperature:</th>\n",
       "      <td>-87 to -5 °C</td>\n",
       "    </tr>\n",
       "    <tr>\n",
       "      <th>First Record:</th>\n",
       "      <td>2nd millennium BC</td>\n",
       "    </tr>\n",
       "    <tr>\n",
       "      <th>Recorded By:</th>\n",
       "      <td>Egyptian astronomers</td>\n",
       "    </tr>\n",
       "  </tbody>\n",
       "</table>\n",
       "</div>"
      ],
      "text/plain": [
       "                                        Measurement\n",
       "Metrics                                            \n",
       "Equatorial Diameter:                       6,792 km\n",
       "Polar Diameter:                            6,752 km\n",
       "Mass:                 6.39 × 10^23 kg (0.11 Earths)\n",
       "Moons:                          2 (Phobos & Deimos)\n",
       "Orbit Distance:            227,943,824 km (1.38 AU)\n",
       "Orbit Period:                  687 days (1.9 years)\n",
       "Surface Temperature:                   -87 to -5 °C\n",
       "First Record:                     2nd millennium BC\n",
       "Recorded By:                   Egyptian astronomers"
      ]
     },
     "execution_count": 91,
     "metadata": {},
     "output_type": "execute_result"
    }
   ],
   "source": [
    "\n",
    "url = 'https://space-facts.com/mars/'\n",
    "mars_profile_table = pd.read_html(url)[0]\n",
    "mars_profile_table.columns=['Metrics','Measurement']\n",
    "mars_profile_table.set_index('Metrics')\n",
    "mars_profile_table"
   ]
  },
  {
   "cell_type": "markdown",
   "metadata": {},
   "source": [
    "# DataFrames as HTML"
   ]
  },
  {
   "cell_type": "code",
   "execution_count": 93,
   "metadata": {},
   "outputs": [],
   "source": [
    "mars_html_table = mars_profile_table.replace('\\n','').to_html('mars_table.html',index=False)\n"
   ]
  },
  {
   "cell_type": "markdown",
   "metadata": {},
   "source": [
    "# Scrape - Mars Hemispheres"
   ]
  },
  {
   "cell_type": "code",
   "execution_count": 94,
   "metadata": {},
   "outputs": [
    {
     "name": "stderr",
     "output_type": "stream",
     "text": [
      "which: no chromedriver in (/c/Users/Wei_l/Anaconda3/envs/pythondata:/c/Users/Wei_l/Anaconda3/envs/pythondata/Library/mingw-w64/bin:/c/Users/Wei_l/Anaconda3/envs/pythondata/Library/usr/bin:/c/Users/Wei_l/Anaconda3/envs/pythondata/Library/bin:/c/Users/Wei_l/Anaconda3/envs/pythondata/Scripts:/c/Users/Wei_l/Anaconda3/envs/pythondata/bin:/c/Users/Wei_l/Anaconda3:/c/Users/Wei_l/Anaconda3/Library/mingw-w64/bin:/c/Users/Wei_l/Anaconda3/Library/usr/bin:/c/Users/Wei_l/Anaconda3/Library/bin:/c/Users/Wei_l/Anaconda3/Scripts:/c/Users/Wei_l/Anaconda3/bin:/c/Users/Wei_l/Anaconda3/Scripts/condabin:/c/Users/Wei_l/bin:/mingw64/bin:/usr/local/bin:/usr/bin:/usr/bin:/mingw64/bin:/usr/bin:/c/Users/Wei_l/bin:/c/Windows/system32:/c/Windows:/c/Windows/System32/Wbem:/c/Windows/System32/WindowsPowerShell/v1.0:/c/Windows/System32/OpenSSH:/c/Program Files/PuTTY:/cmd:/c/Users/Wei_l/Anaconda3:/c/Users/Wei_l/Anaconda3/Library/mingw-w64/bin:/c/Users/Wei_l/Anaconda3/Library/usr/bin:/c/Users/Wei_l/Anaconda3/Library/bin:/c/Users/Wei_l/Anaconda3/Scripts:/c/Users/Wei_l/AppData/Local/Microsoft/WindowsApps:/c/Users/Wei_l/AppData/Local/Programs/Microsoft VS Code/bin:/c/Program Files/MongoDB/Server/4.2/bin:/usr/bin/vendor_perl:/usr/bin/core_perl)\n"
     ]
    }
   ],
   "source": [
    "!which chromedriver\n",
    "executable_path = {'executable_path': 'chromedriver.exe'}\n",
    "browser = Browser('chrome', **executable_path, headless=False)\n",
    "\n",
    "url = 'https://astrogeology.usgs.gov/search/results?q=hemisphere+enhanced&k1=target&v1=Mars'\n",
    "browser.visit(url)\n",
    "time.sleep(3)\n",
    "html = browser.html"
   ]
  },
  {
   "cell_type": "code",
   "execution_count": 100,
   "metadata": {},
   "outputs": [],
   "source": [
    "soup = BeautifulSoup(html, 'lxml').find('div',id_='product-section')\n"
   ]
  }
 ],
 "metadata": {
  "kernelspec": {
   "display_name": "Python 3",
   "language": "python",
   "name": "python3"
  },
  "language_info": {
   "codemirror_mode": {
    "name": "ipython",
    "version": 3
   },
   "file_extension": ".py",
   "mimetype": "text/x-python",
   "name": "python",
   "nbconvert_exporter": "python",
   "pygments_lexer": "ipython3",
   "version": "3.6.10"
  }
 },
 "nbformat": 4,
 "nbformat_minor": 4
}
